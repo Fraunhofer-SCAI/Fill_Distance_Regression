{
 "cells": [
  {
   "cell_type": "code",
   "execution_count": 6,
   "metadata": {},
   "outputs": [],
   "source": [
    "import sys\n",
    "new_paths = ['../datasets']\n",
    "for path in new_paths:\n",
    "    sys.path.insert(0, path)\n",
    "import warnings\n",
    "warnings.filterwarnings(\"ignore\")\n",
    "\n",
    "#Basics\n",
    "import numpy as np\n",
    "from Datasets_Class import Dataset"
   ]
  },
  {
   "cell_type": "markdown",
   "metadata": {},
   "source": [
    "# 1. Download, Preprocess and Read Datasets\n",
    "The 'Dataset' class can be used to download and read the datasets. It takes as input the path to the folder where the datasets are downloaded and the preprocessed feature vectors are stored. Once you have created the 'Dataset' class object, you can use the QM7_dataset, QM8_dataset, QM9_dataset modules to access the respective datasets. The modules download the respective datasets, preprocess them as described in the paper, and return a data feature matrix 'x' and associated labels 'y'."
   ]
  },
  {
   "cell_type": "markdown",
   "metadata": {},
   "source": [
    "### 1.1 QM7 \n",
    " The feature vector for a molecule is the (reshaped) Coulomb matrix. The label value to predict is the atomization energy.\n",
    "a scalar value describing amount of energy required to completely separate all the atoms in a molecule into individual gas-phase atoms. "
   ]
  },
  {
   "cell_type": "code",
   "execution_count": 7,
   "metadata": {},
   "outputs": [
    {
     "name": "stdout",
     "output_type": "stream",
     "text": [
      "Shape data matrix: (7165, 529)\n"
     ]
    }
   ],
   "source": [
    "datasets =  Dataset('../datasets')\n",
    "x_qm7, y_qm7 = datasets.QM7_dataset()\n",
    "print('Shape data matrix:', x_qm7.shape)"
   ]
  },
  {
   "cell_type": "markdown",
   "metadata": {},
   "source": [
    "Notice that, in the dowloaded file the labels are provided in Kcal/mol to rescale them in eV simply divide the label values by 23.060900"
   ]
  },
  {
   "cell_type": "markdown",
   "metadata": {},
   "source": [
    "### 1.2 QM8\n",
    "The feature vector for a molecule is the preprocessed Mordred descriptor. The preprocessing procedure consists of normalizing the original mordreds values and removing the entries with zero variance over the data points. The preprocessing procedure can be turned off by setting 'preprocessing = False' in the argument of the QM8_dataset module. The label value to be predicted is the lowest singlet transition energy (E1). Other label values can be selected by modifying the target_label argument. See the possible options in the header of the downloaded qm8.csv file, which is obtained after running the QM8 module for the first time."
   ]
  },
  {
   "cell_type": "code",
   "execution_count": 8,
   "metadata": {},
   "outputs": [
    {
     "name": "stdout",
     "output_type": "stream",
     "text": [
      "Shape data matrix: (21766, 1296)\n"
     ]
    }
   ],
   "source": [
    "datasets =  Dataset('../datasets')\n",
    "x_qm8, y_qm8 = datasets.QM8_dataset( target_label='E1-PBE0', preprocessing=True)\n",
    "print('Shape data matrix:', x_qm8.shape)"
   ]
  },
  {
   "cell_type": "markdown",
   "metadata": {},
   "source": [
    "Notice that, in the dowloaded file the labels are provided in atomic units to rescale them in eV  simply multiply the label values by 27.21139"
   ]
  },
  {
   "cell_type": "markdown",
   "metadata": {},
   "source": [
    "### 1.3 QM9\n",
    "The feature vector for a molecule is the preprocessed Mordred descriptor. The preprocessing procedure consists of removing the entries with zero variance over the data points. The preprocessing procedure can be turned off by setting 'preprocessing = False' in the argument of the QM9_dataset module.  The label value to be predicted is the HOMO-LUMO energy, measured in eV, which describes the difference between the highest occupied (HOMO) and lowest unoccupied (LUMO) molecular orbital energies. It is a useful quantity for examining the kinetic stability of the molecule."
   ]
  },
  {
   "cell_type": "code",
   "execution_count": 9,
   "metadata": {},
   "outputs": [
    {
     "name": "stdout",
     "output_type": "stream",
     "text": [
      "Shape data matrix: (130202, 1307)\n"
     ]
    }
   ],
   "source": [
    "### Computation of mordreds descriptors may take a few hours\n",
    "datasets =  Dataset('../datasets')\n",
    "x_qm9, y_qm9 = datasets.QM9_dataset(preprocessing=True)\n",
    "print('Shape data matrix:', x_qm9.shape)"
   ]
  }
 ],
 "metadata": {
  "kernelspec": {
   "display_name": "magrido_project",
   "language": "python",
   "name": "python3"
  },
  "language_info": {
   "codemirror_mode": {
    "name": "ipython",
    "version": 3
   },
   "file_extension": ".py",
   "mimetype": "text/x-python",
   "name": "python",
   "nbconvert_exporter": "python",
   "pygments_lexer": "ipython3",
   "version": "3.9.12"
  }
 },
 "nbformat": 4,
 "nbformat_minor": 2
}
